{
 "cells": [
  {
   "cell_type": "code",
   "execution_count": 4,
   "id": "5a5a5ac8",
   "metadata": {},
   "outputs": [
    {
     "name": "stdout",
     "output_type": "stream",
     "text": [
      "random_state = 1, score_train=0.823037037037037,score_test=0.8236666666666667\n",
      "random_state = 2, score_train=0.8231851851851851,score_test=0.8246666666666667\n",
      "random_state = 3, score_train=0.821962962962963,score_test=0.8366666666666667\n",
      "random_state = 4, score_train=0.8245555555555556,score_test=0.8106666666666666\n",
      "random_state = 5, score_train=0.8227037037037037,score_test=0.83\n",
      "random_state = 6, score_train=0.8241111111111111,score_test=0.812\n",
      "random_state = 7, score_train=0.8238148148148148,score_test=0.819\n",
      "random_state = 8, score_train=0.8222962962962963,score_test=0.8296666666666667\n",
      "random_state = 9, score_train=0.8235555555555556,score_test=0.8173333333333334\n",
      "random_state = 10, score_train=0.822,score_test=0.8326666666666667\n",
      "Mean score_train: 0.8231222222222222, Std score_train: 0.0008468532894351726\n",
      "Mean score_test: 0.8236333333333332, Std score_test: 0.00833126641033642\n",
      "   Random State  Train Score  Test Score\n",
      "0             1     0.823037    0.823667\n",
      "1             2     0.823185    0.824667\n",
      "2             3     0.821963    0.836667\n",
      "3             4     0.824556    0.810667\n",
      "4             5     0.822704    0.830000\n",
      "5             6     0.824111    0.812000\n",
      "6             7     0.823815    0.819000\n",
      "7             8     0.822296    0.829667\n",
      "8             9     0.823556    0.817333\n",
      "9            10     0.822000    0.832667\n",
      "10         Mean     0.823122    0.823633\n",
      "11          Std     0.000847    0.008331\n",
      "random_state = 1, score_train=0.82,score_test=0.8173333333333334\n",
      "random_state = 2, score_train=0.8212222222222222,score_test=0.8190000000000002\n",
      "random_state = 3, score_train=0.8185925925925925,score_test=0.8356666666666666\n",
      "random_state = 4, score_train=0.8224074074074075,score_test=0.794\n",
      "random_state = 5, score_train=0.8194444444444444,score_test=0.8256666666666665\n",
      "random_state = 6, score_train=0.8218148148148148,score_test=0.8030000000000002\n",
      "random_state = 7, score_train=0.8209259259259258,score_test=0.808\n",
      "random_state = 8, score_train=0.8192962962962962,score_test=0.8243333333333334\n",
      "random_state = 9, score_train=0.8207037037037038,score_test=0.8089999999999999\n",
      "random_state = 10, score_train=0.8198888888888888,score_test=0.8236666666666667\n",
      "Mean score_train: 0.8204296296296297, Std score_train: 0.0011351957585152286\n",
      "Mean score_test: 0.8159666666666666, Std score_test: 0.011769499186928474\n",
      "   Random State  Train Score  Test Score\n",
      "0             1     0.820000    0.817333\n",
      "1             2     0.821222    0.819000\n",
      "2             3     0.818593    0.835667\n",
      "3             4     0.822407    0.794000\n",
      "4             5     0.819444    0.825667\n",
      "5             6     0.821815    0.803000\n",
      "6             7     0.820926    0.808000\n",
      "7             8     0.819296    0.824333\n",
      "8             9     0.820704    0.809000\n",
      "9            10     0.819889    0.823667\n",
      "10         Mean     0.820430    0.815967\n",
      "11          std     0.001135    0.011769\n",
      "My name is Youshi Wang\n",
      "My NetID is: youshiw2\n",
      "I hereby certify that I have read the University policy on Academic Integrity and that I am not in violation.\n"
     ]
    }
   ],
   "source": [
    "import numpy as np\n",
    "import pandas as pd\n",
    "from sklearn.model_selection import train_test_split\n",
    "from sklearn.tree import DecisionTreeClassifier\n",
    "\n",
    "df=pd.read_csv('ccdefault.csv',index_col=['ID'])\n",
    "x=df.iloc[:,:23]\n",
    "y=df['DEFAULT']\n",
    "\n",
    "#%%run decision tree model and evaluate performance\n",
    "score_table1 = pd.DataFrame(columns=['Random State', 'Train Score', 'Test Score'])\n",
    "score_train_list = []\n",
    "score_test_list = []\n",
    "for random_state in range (1,11):\n",
    "    X_train,X_test,y_train,y_test=train_test_split(x, y, test_size=0.1, random_state=random_state)\n",
    "    tree_model=DecisionTreeClassifier(criterion='gini',\n",
    "                                  max_depth=4,\n",
    "                                  random_state=random_state)\n",
    "    tree_model.fit(X_train,y_train)\n",
    "    score_train=tree_model.score(X_train,y_train)\n",
    "    score_test=tree_model.score(X_test,y_test)\n",
    "    score_train_list.append(score_train)\n",
    "    score_test_list.append(score_test)\n",
    "    score_table1=pd.concat([score_table1,pd.DataFrame({'Random State': [random_state],'Train Score':[score_train], 'Test Score': [score_test]})], ignore_index=True)\n",
    "    print(f\"random_state = {random_state}, score_train={score_train},score_test={score_test}\")\n",
    "mean_train_score = np.mean(score_train_list)\n",
    "std_train_score = np.std(score_train_list)\n",
    "mean_test_score = np.mean(score_test_list)\n",
    "std_test_score = np.std(score_test_list)\n",
    "print(f\"Mean score_train: {np.mean(score_train_list)}, Std score_train: {np.std(score_train_list)}\")\n",
    "print(f\"Mean score_test: {np.mean(score_test_list)}, Std score_test: {np.std(score_test_list)}\")\n",
    "score_table1 = pd.concat([score_table1, pd.DataFrame({'Random State': ['Mean', 'Std'], 'Train Score': [mean_train_score, std_train_score], 'Test Score': [mean_test_score, std_test_score]})], ignore_index=True)\n",
    "print(score_table1)\n",
    "\n",
    "#%%run decision tree model with cross-validation\n",
    "score_table2 = pd.DataFrame(columns=['Random State', 'Train Score', 'Test Score'])\n",
    "score_train_list = []\n",
    "score_test_list = []\n",
    "from sklearn.model_selection import cross_val_score\n",
    "for random_state in range (1,11):\n",
    "    X_train,X_test,y_train,y_test=train_test_split(x, y, test_size=0.1, random_state=random_state)\n",
    "    tree_model=DecisionTreeClassifier(criterion='gini',\n",
    "                                  max_depth=4,\n",
    "                                  random_state=random_state)\n",
    "    score_train = cross_val_score(tree_model, X_train, y_train, cv=10).mean()\n",
    "    score_test = cross_val_score(tree_model, X_test, y_test, cv=10).mean()\n",
    "    score_train_list.append(score_train)\n",
    "    score_test_list.append(score_test)\n",
    "    score_table2 = pd.concat([score_table2,pd.DataFrame({'Random State':[random_state],'Train Score':[score_train],'Test Score':[score_test]})],ignore_index=True)\n",
    "    print(f\"random_state = {random_state}, score_train={score_train},score_test={score_test}\")\n",
    "mean_train_score = np.mean(score_train_list)\n",
    "std_train_score = np.std(score_train_list)\n",
    "mean_test_score = np.mean(score_test_list)\n",
    "std_test_score = np.std(score_test_list)\n",
    "print(f\"Mean score_train: {np.mean(score_train_list)}, Std score_train: {np.std(score_train_list)}\")\n",
    "print(f\"Mean score_test: {np.mean(score_test_list)}, Std score_test: {np.std(score_test_list)}\")\n",
    "score_table2 = pd.concat([score_table2,pd.DataFrame({'Random State': ['Mean','std'],'Train Score': [mean_train_score,std_train_score],'Test Score':[mean_test_score,std_test_score]})],ignore_index=True)\n",
    "print(score_table2)\n",
    "\n",
    "print(\"My name is Youshi Wang\")\n",
    "print(\"My NetID is: youshiw2\")\n",
    "print(\"I hereby certify that I have read the University policy on Academic Integrity and that I am not in violation.\")\n"
   ]
  },
  {
   "cell_type": "code",
   "execution_count": 2,
   "id": "8defea25",
   "metadata": {},
   "outputs": [
    {
     "ename": "SyntaxError",
     "evalue": "invalid syntax (1994788868.py, line 1)",
     "output_type": "error",
     "traceback": [
      "\u001b[1;36m  File \u001b[1;32m\"C:\\Users\\Jerry\\AppData\\Local\\Temp\\ipykernel_152476\\1994788868.py\"\u001b[1;36m, line \u001b[1;32m1\u001b[0m\n\u001b[1;33m    is\u001b[0m\n\u001b[1;37m    ^\u001b[0m\n\u001b[1;31mSyntaxError\u001b[0m\u001b[1;31m:\u001b[0m invalid syntax\n"
     ]
    }
   ],
   "source": [
    "is\n"
   ]
  },
  {
   "cell_type": "code",
   "execution_count": 3,
   "id": "012f6878",
   "metadata": {},
   "outputs": [
    {
     "name": "stdout",
     "output_type": "stream",
     "text": [
      "C:\\Users\\Jerry\\Documents\\GitHub\\Youshi_Wang-s-repo\\IE517_Spring2023_HW6\n"
     ]
    }
   ],
   "source": [
    "%cd Documents/GitHub/Youshi_Wang-s-repo/IE517_Spring2023_HW6"
   ]
  },
  {
   "cell_type": "code",
   "execution_count": null,
   "id": "48f072b6",
   "metadata": {},
   "outputs": [],
   "source": []
  }
 ],
 "metadata": {
  "kernelspec": {
   "display_name": "Python 3 (ipykernel)",
   "language": "python",
   "name": "python3"
  },
  "language_info": {
   "codemirror_mode": {
    "name": "ipython",
    "version": 3
   },
   "file_extension": ".py",
   "mimetype": "text/x-python",
   "name": "python",
   "nbconvert_exporter": "python",
   "pygments_lexer": "ipython3",
   "version": "3.9.13"
  }
 },
 "nbformat": 4,
 "nbformat_minor": 5
}
